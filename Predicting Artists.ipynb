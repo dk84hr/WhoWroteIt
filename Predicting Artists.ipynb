{
 "cells": [
  {
   "cell_type": "markdown",
   "metadata": {},
   "source": [
    "### Import libraries:"
   ]
  },
  {
   "cell_type": "code",
   "execution_count": 1,
   "metadata": {},
   "outputs": [],
   "source": [
    "import requests\n",
    "import time\n",
    "import re\n",
    "from bs4 import BeautifulSoup\n",
    "from itertools import chain\n",
    "import pandas as pd\n",
    "from sklearn.feature_extraction.text import TfidfVectorizer\n",
    "from sklearn.naive_bayes import MultinomialNB"
   ]
  },
  {
   "cell_type": "markdown",
   "metadata": {},
   "source": [
    "### Set a user agent:"
   ]
  },
  {
   "cell_type": "code",
   "execution_count": 2,
   "metadata": {},
   "outputs": [],
   "source": [
    "headers = {\"User-Agent\": \"Mozilla/5.0 (Macintosh; Intel Mac OS X 10_15_7) AppleWebKit/605.1.15 (KHTML, like Gecko) Version/14.0 Safari/605.1.15\"}"
   ]
  },
  {
   "cell_type": "markdown",
   "metadata": {},
   "source": [
    "### Pick artists to scrape:"
   ]
  },
  {
   "cell_type": "code",
   "execution_count": 48,
   "metadata": {},
   "outputs": [
    {
     "name": "stdout",
     "output_type": "stream",
     "text": [
      "Please choose your artists. If artist's name is composed of 2 or more words, please put a hyphen (-) in between\n",
      "input artists (press 0 when done): 2pac\n",
      "input artists (press 0 when done): nas\n",
      "input artists (press 0 when done): mos-def\n",
      "input artists (press 0 when done): notorious-big\n",
      "input artists (press 0 when done): 0\n"
     ]
    }
   ],
   "source": [
    "print(\"Please choose your artists. If artist's name is composed of 2 or more words, please put a hyphen (-) in between\")\n",
    "artists = []\n",
    "inputs = artists\n",
    "while inputs != '0':\n",
    "    inputs = input('input artists (press 0 when done): ')\n",
    "    artists.append(inputs)"
   ]
  },
  {
   "cell_type": "code",
   "execution_count": 50,
   "metadata": {},
   "outputs": [],
   "source": [
    "artists = artists[:-1]"
   ]
  },
  {
   "cell_type": "markdown",
   "metadata": {},
   "source": [
    "Check what's in the list:"
   ]
  },
  {
   "cell_type": "code",
   "execution_count": 51,
   "metadata": {},
   "outputs": [
    {
     "data": {
      "text/plain": [
       "['2pac', 'nas', 'mos-def', 'notorious-big']"
      ]
     },
     "execution_count": 51,
     "metadata": {},
     "output_type": "execute_result"
    }
   ],
   "source": [
    "artists"
   ]
  },
  {
   "cell_type": "markdown",
   "metadata": {},
   "source": [
    "### Get lyrics-page to scrape from for each artist in list:"
   ]
  },
  {
   "cell_type": "code",
   "execution_count": 6,
   "metadata": {},
   "outputs": [],
   "source": [
    "lyrics_links = []\n",
    "for artist in artists:\n",
    "    url = 'https://www.metrolyrics.com/' + artist.lower() + '-lyrics.html'\n",
    "    http_request = requests.get(url, headers=headers)\n",
    "    pattern = 'http://www.metrolyrics.com/[^\\s]+lyrics-' + artist + '\\.html'\n",
    "    lyrics_links.append(re.findall(pattern, http_request.text))"
   ]
  },
  {
   "cell_type": "code",
   "execution_count": 42,
   "metadata": {
    "scrolled": true
   },
   "outputs": [
    {
     "data": {
      "text/plain": [
       "(79, 79, 79, 78)"
      ]
     },
     "execution_count": 42,
     "metadata": {},
     "output_type": "execute_result"
    }
   ],
   "source": [
    "len(lyrics_links[0]), len(lyrics_links[1]), len(lyrics_links[2]), len(lyrics_links[3])"
   ]
  },
  {
   "cell_type": "code",
   "execution_count": 8,
   "metadata": {
    "collapsed": true
   },
   "outputs": [
    {
     "data": {
      "text/plain": [
       "['http://www.metrolyrics.com/ms-fat-booty-lyrics-mos-def.html',\n",
       " 'http://www.metrolyrics.com/six-days-lyrics-mos-def.html',\n",
       " 'http://www.metrolyrics.com/respiration-lyrics-mos-def.html',\n",
       " 'http://www.metrolyrics.com/mathematics-lyrics-mos-def.html',\n",
       " 'http://www.metrolyrics.com/ms-fat-booty-lyrics-mos-def.html',\n",
       " 'http://www.metrolyrics.com/six-days-lyrics-mos-def.html',\n",
       " 'http://www.metrolyrics.com/respiration-lyrics-mos-def.html',\n",
       " 'http://www.metrolyrics.com/mathematics-lyrics-mos-def.html',\n",
       " 'http://www.metrolyrics.com/oh-no-lyrics-mos-def.html',\n",
       " 'http://www.metrolyrics.com/travellin-man-lyrics-mos-def.html',\n",
       " 'http://www.metrolyrics.com/umi-says-lyrics-mos-def.html',\n",
       " 'http://www.metrolyrics.com/a-soldiers-dream-lyrics-mos-def.html',\n",
       " 'http://www.metrolyrics.com/quiet-dog-bite-hard-lyrics-mos-def.html',\n",
       " 'http://www.metrolyrics.com/new-world-water-lyrics-mos-def.html',\n",
       " 'http://www.metrolyrics.com/perfect-timing-lyrics-mos-def.html',\n",
       " 'http://www.metrolyrics.com/fear-not-of-man-lyrics-mos-def.html',\n",
       " 'http://www.metrolyrics.com/speed-law-lyrics-mos-def.html',\n",
       " 'http://www.metrolyrics.com/the-rape-over-lyrics-mos-def.html',\n",
       " 'http://www.metrolyrics.com/sunshine-lyrics-mos-def.html',\n",
       " 'http://www.metrolyrics.com/brown-skin-lady-lyrics-mos-def.html',\n",
       " 'http://www.metrolyrics.com/climb-lyrics-mos-def.html',\n",
       " 'http://www.metrolyrics.com/definition-lyrics-mos-def.html',\n",
       " 'http://www.metrolyrics.com/hater-players-lyrics-mos-def.html',\n",
       " 'http://www.metrolyrics.com/blue-black-jack-lyrics-mos-def.html',\n",
       " 'http://www.metrolyrics.com/twilite-speedball-lyrics-mos-def.html',\n",
       " 'http://www.metrolyrics.com/mr-nigga-lyrics-mos-def.html',\n",
       " 'http://www.metrolyrics.com/pistola-lyrics-mos-def.html',\n",
       " 'http://www.metrolyrics.com/sex-love-money-lyrics-mos-def.html',\n",
       " 'http://www.metrolyrics.com/sun-moon-stars-lyrics-mos-def.html',\n",
       " 'http://www.metrolyrics.com/body-rock-lyrics-mos-def.html',\n",
       " 'http://www.metrolyrics.com/childrens-story-lyrics-mos-def.html',\n",
       " 'http://www.metrolyrics.com/do-it-now-lyrics-mos-def.html',\n",
       " 'http://www.metrolyrics.com/got-lyrics-mos-def.html',\n",
       " 'http://www.metrolyrics.com/hurricane-lyrics-mos-def.html',\n",
       " 'http://www.metrolyrics.com/love-lyrics-mos-def.html',\n",
       " 'http://www.metrolyrics.com/travellin-man-remix-lyrics-mos-def.html',\n",
       " 'http://www.metrolyrics.com/i-against-i-lyrics-mos-def.html',\n",
       " 'http://www.metrolyrics.com/you-are-undeniable-lyrics-mos-def.html',\n",
       " 'http://www.metrolyrics.com/niggas-in-poorest-lyrics-mos-def.html',\n",
       " 'http://www.metrolyrics.com/auditorium-lyrics-mos-def.html',\n",
       " 'http://www.metrolyrics.com/wahid-lyrics-mos-def.html',\n",
       " 'http://www.metrolyrics.com/close-edge-lyrics-mos-def.html',\n",
       " 'http://www.metrolyrics.com/the-panties-lyrics-mos-def.html',\n",
       " 'http://www.metrolyrics.com/grown-man-business-lyrics-mos-def.html',\n",
       " 'http://www.metrolyrics.com/the-beggar-lyrics-mos-def.html',\n",
       " 'http://www.metrolyrics.com/champion-requiem-lyrics-mos-def.html',\n",
       " 'http://www.metrolyrics.com/msfat-booty-lyrics-mos-def.html',\n",
       " 'http://www.metrolyrics.com/maydecember-lyrics-mos-def.html',\n",
       " 'http://www.metrolyrics.com/a-ha-lyrics-mos-def.html',\n",
       " 'http://www.metrolyrics.com/brown-sugar-fine-lyrics-mos-def.html',\n",
       " 'http://www.metrolyrics.com/much-respect-to-michael-jordan-nike-commercial-lyrics-mos-def.html',\n",
       " 'http://www.metrolyrics.com/astronomy-lyrics-mos-def.html',\n",
       " 'http://www.metrolyrics.com/b-boys-will-b-boys-lyrics-mos-def.html',\n",
       " 'http://www.metrolyrics.com/brooklyn-lyrics-mos-def.html',\n",
       " 'http://www.metrolyrics.com/habitat-lyrics-mos-def.html',\n",
       " 'http://www.metrolyrics.com/hip-hop-lyrics-mos-def.html',\n",
       " 'http://www.metrolyrics.com/if-you-can-huh-you-can-hear-lyrics-mos-def.html',\n",
       " 'http://www.metrolyrics.com/know-that-lyrics-mos-def.html',\n",
       " 'http://www.metrolyrics.com/mos-def-freestyle-lyrics-mos-def.html',\n",
       " 'http://www.metrolyrics.com/next-universe-lyrics-mos-def.html',\n",
       " 'http://www.metrolyrics.com/re-definition-lyrics-mos-def.html',\n",
       " 'http://www.metrolyrics.com/rock-n-roll-lyrics-mos-def.html',\n",
       " 'http://www.metrolyrics.com/theives-in-the-night-lyrics-mos-def.html',\n",
       " 'http://www.metrolyrics.com/twice-inna-lifetime-lyrics-mos-def.html',\n",
       " 'http://www.metrolyrics.com/universal-magnetic-lyrics-mos-def.html',\n",
       " 'http://www.metrolyrics.com/bedstuy-parade-funeral-march-lyrics-mos-def.html',\n",
       " 'http://www.metrolyrics.com/kalifornia-lyrics-mos-def.html',\n",
       " 'http://www.metrolyrics.com/kos-determination-lyrics-mos-def.html',\n",
       " 'http://www.metrolyrics.com/the-jump-off-lyrics-mos-def.html',\n",
       " 'http://www.metrolyrics.com/very-well-lyrics-mos-def.html',\n",
       " 'http://www.metrolyrics.com/water-lyrics-mos-def.html',\n",
       " 'http://www.metrolyrics.com/yo-yeah-lyrics-mos-def.html',\n",
       " 'http://www.metrolyrics.com/beautiful-lyrics-mos-def.html',\n",
       " 'http://www.metrolyrics.com/ms-fat-booty-2-lyrics-mos-def.html',\n",
       " 'http://www.metrolyrics.com/life-in-marvelous-times-lyrics-mos-def.html',\n",
       " 'http://www.metrolyrics.com/brown-sugar-raw-lyrics-mos-def.html',\n",
       " 'http://www.metrolyrics.com/roses-lyrics-mos-def.html',\n",
       " 'http://www.metrolyrics.com/supermagic-lyrics-mos-def.html',\n",
       " 'http://www.metrolyrics.com/invisible-game-lyrics-mos-def.html']"
      ]
     },
     "execution_count": 8,
     "metadata": {},
     "output_type": "execute_result"
    }
   ],
   "source": [
    "lyrics_links[2]"
   ]
  },
  {
   "cell_type": "markdown",
   "metadata": {},
   "source": [
    "CAVEAT: some songpages might be empty, i.e. missing lyrics. Only non-empty songs will be appended to the songlist below."
   ]
  },
  {
   "cell_type": "markdown",
   "metadata": {},
   "source": [
    "### Scrape the lyrics for each artist song:"
   ]
  },
  {
   "cell_type": "code",
   "execution_count": 9,
   "metadata": {},
   "outputs": [],
   "source": [
    "songs = []\n",
    "artist_list = []\n",
    "# for artist in artists:\n",
    "for element in lyrics_links:\n",
    "    for link in element:\n",
    "        time.sleep(1)                                             # pauses 1 sec\n",
    "        song_page = requests.get(link, headers=headers)           # requesting each url\n",
    "        song_soup = BeautifulSoup(song_page.text)                 # soups url-text\n",
    "        verse = song_soup.body.find_all(class_=\"verse\")           # finds all verses\n",
    "        songtext = ' '.join([x.text for x in verse])              # loops through verses and extracts text only\n",
    "        if songtext != '':                                        # checks for empty strings (missing lyrics) before appending\n",
    "            song_artist = link.split('/')[-1].split('.')[0].split('lyrics-')[-1] #splits the url to label each artist of a (non-empty) song\n",
    "            artist_list.append(song_artist)                       # creates a list of artist labels\n",
    "            songs.append(songtext)                                # having all songtexts in a list\n",
    "            #song_name = link.split('/')[-1].split('.')[0]          # splits the url to label each song\n",
    "    #        with open(artist + '_lyrics.txt', 'a') as f:                # saves to txt with song-names and empty lines\n",
    "    #            f.write('\\n\\n' + songtext + '\\n')"
   ]
  },
  {
   "cell_type": "code",
   "execution_count": 10,
   "metadata": {
    "collapsed": true
   },
   "outputs": [
    {
     "name": "stdout",
     "output_type": "stream",
     "text": [
      "['2pac', '2pac', '2pac', '2pac', '2pac', '2pac', '2pac', '2pac', '2pac', '2pac', '2pac', '2pac', '2pac', '2pac', '2pac', '2pac', '2pac', '2pac', '2pac', '2pac', '2pac', '2pac', '2pac', '2pac', '2pac', '2pac', '2pac', '2pac', '2pac', '2pac', '2pac', '2pac', '2pac', '2pac', '2pac', '2pac', '2pac', '2pac', '2pac', '2pac', '2pac', '2pac', '2pac', '2pac', '2pac', '2pac', '2pac', '2pac', '2pac', '2pac', '2pac', '2pac', '2pac', '2pac', '2pac', '2pac', '2pac', '2pac', '2pac', '2pac', '2pac', '2pac', '2pac', '2pac', '2pac', '2pac', '2pac', '2pac', '2pac', '2pac', '2pac', '2pac', '2pac', '2pac', '2pac', '2pac', '2pac', '2pac', '2pac', 'nas', 'nas', 'nas', 'nas', 'nas', 'nas', 'nas', 'nas', 'nas', 'nas', 'nas', 'nas', 'nas', 'nas', 'nas', 'nas', 'nas', 'nas', 'nas', 'nas', 'nas', 'nas', 'nas', 'nas', 'nas', 'nas', 'nas', 'nas', 'nas', 'nas', 'nas', 'nas', 'nas', 'nas', 'nas', 'nas', 'nas', 'nas', 'nas', 'nas', 'nas', 'nas', 'nas', 'nas', 'nas', 'nas', 'nas', 'nas', 'nas', 'nas', 'nas', 'nas', 'nas', 'nas', 'nas', 'nas', 'nas', 'nas', 'nas', 'nas', 'nas', 'nas', 'nas', 'nas', 'nas', 'nas', 'nas', 'nas', 'nas', 'nas', 'nas', 'nas', 'nas', 'nas', 'nas', 'nas', 'mos-def', 'mos-def', 'mos-def', 'mos-def', 'mos-def', 'mos-def', 'mos-def', 'mos-def', 'mos-def', 'mos-def', 'mos-def', 'mos-def', 'mos-def', 'mos-def', 'mos-def', 'mos-def', 'mos-def', 'mos-def', 'mos-def', 'mos-def', 'mos-def', 'mos-def', 'mos-def', 'mos-def', 'mos-def', 'mos-def', 'mos-def', 'mos-def', 'mos-def', 'mos-def', 'mos-def', 'mos-def', 'mos-def', 'mos-def', 'mos-def', 'mos-def', 'mos-def', 'mos-def', 'mos-def', 'mos-def', 'mos-def', 'mos-def', 'mos-def', 'mos-def', 'mos-def', 'mos-def', 'mos-def', 'mos-def', 'mos-def', 'mos-def', 'mos-def', 'mos-def', 'mos-def', 'mos-def', 'mos-def', 'mos-def', 'mos-def', 'mos-def', 'mos-def', 'mos-def', 'mos-def', 'mos-def', 'mos-def', 'mos-def', 'mos-def', 'mos-def', 'mos-def', 'mos-def', 'mos-def', 'mos-def', 'notorious-big', 'notorious-big', 'notorious-big', 'notorious-big', 'notorious-big', 'notorious-big', 'notorious-big', 'notorious-big', 'notorious-big', 'notorious-big', 'notorious-big', 'notorious-big', 'notorious-big', 'notorious-big', 'notorious-big', 'notorious-big', 'notorious-big', 'notorious-big', 'notorious-big', 'notorious-big', 'notorious-big', 'notorious-big', 'notorious-big', 'notorious-big', 'notorious-big', 'notorious-big', 'notorious-big', 'notorious-big', 'notorious-big', 'notorious-big', 'notorious-big', 'notorious-big', 'notorious-big', 'notorious-big', 'notorious-big', 'notorious-big', 'notorious-big', 'notorious-big', 'notorious-big', 'notorious-big', 'notorious-big', 'notorious-big', 'notorious-big', 'notorious-big', 'notorious-big', 'notorious-big', 'notorious-big', 'notorious-big', 'notorious-big', 'notorious-big', 'notorious-big', 'notorious-big', 'notorious-big', 'notorious-big', 'notorious-big', 'notorious-big', 'notorious-big', 'notorious-big', 'notorious-big', 'notorious-big', 'notorious-big', 'notorious-big', 'notorious-big', 'notorious-big', 'notorious-big', 'notorious-big', 'notorious-big', 'notorious-big', 'notorious-big', 'notorious-big', 'notorious-big', 'notorious-big', 'notorious-big', 'notorious-big']\n"
     ]
    }
   ],
   "source": [
    "print(artist_list) # this list serves as labels for the index of the matrix/dataframe"
   ]
  },
  {
   "cell_type": "markdown",
   "metadata": {},
   "source": [
    "check the number of scraped songs per artist (must be counter-balanced eventually):"
   ]
  },
  {
   "cell_type": "code",
   "execution_count": 11,
   "metadata": {},
   "outputs": [],
   "source": [
    "number_of_songs = []\n",
    "for artist in artists:\n",
    "    number_of_songs.append(artist_list.count(artist))"
   ]
  },
  {
   "cell_type": "code",
   "execution_count": 47,
   "metadata": {},
   "outputs": [
    {
     "data": {
      "text/plain": [
       "([79, 76, 70, 74], 299)"
      ]
     },
     "execution_count": 47,
     "metadata": {},
     "output_type": "execute_result"
    }
   ],
   "source": [
    "number_of_songs, sum(number_of_songs)"
   ]
  },
  {
   "cell_type": "code",
   "execution_count": 13,
   "metadata": {},
   "outputs": [
    {
     "data": {
      "text/plain": [
       "299"
      ]
     },
     "execution_count": 13,
     "metadata": {},
     "output_type": "execute_result"
    }
   ],
   "source": [
    "len(songs) #number of songs in list "
   ]
  },
  {
   "cell_type": "code",
   "execution_count": 14,
   "metadata": {
    "collapsed": true
   },
   "outputs": [
    {
     "name": "stdout",
     "output_type": "stream",
     "text": [
      "Yo, C-Gutta where you at?\n",
      "D Rockafella\n",
      "Caesar Leo Degenero\n",
      "Bled C, Money SL B.I.G. is making this cream\n",
      "Bitches always say what the hell does that mean?\n",
      "B is for the bitches, who can't understand\n",
      "How one fly nigga became a man I is for the way it goes in and out\n",
      "One by one I knocks 'em out\n",
      "G is for the way the game goes in the gutter Other MC's, man, they ain't sayin' nuthin'\n",
      "Rockin' on to the break of dawn\n",
      "Make the bitch give the pussy\n",
      "Get the mouth, I'm gone What? It ain't no more to it\n"
     ]
    }
   ],
   "source": [
    "print(songs[-1])"
   ]
  },
  {
   "cell_type": "markdown",
   "metadata": {},
   "source": [
    "creating artist labels:"
   ]
  },
  {
   "cell_type": "code",
   "execution_count": 15,
   "metadata": {},
   "outputs": [],
   "source": [
    "labels = artist_list\n",
    "\n",
    "# labels = [artists[0]] * number_of_songs[0] + [artists[1]] * number_of_songs[1] + [artists[2]] * number_of_songs[2]"
   ]
  },
  {
   "cell_type": "code",
   "execution_count": 16,
   "metadata": {},
   "outputs": [
    {
     "data": {
      "text/plain": [
       "299"
      ]
     },
     "execution_count": 16,
     "metadata": {},
     "output_type": "execute_result"
    }
   ],
   "source": [
    "len(labels) #checking for number of labels (should equal number of scraped songs in total):"
   ]
  },
  {
   "cell_type": "markdown",
   "metadata": {},
   "source": [
    "check for correct labels:"
   ]
  },
  {
   "cell_type": "code",
   "execution_count": 17,
   "metadata": {
    "collapsed": true
   },
   "outputs": [
    {
     "name": "stdout",
     "output_type": "stream",
     "text": [
      "['2pac', '2pac', '2pac', '2pac', '2pac', '2pac', '2pac', '2pac', '2pac', '2pac', '2pac', '2pac', '2pac', '2pac', '2pac', '2pac', '2pac', '2pac', '2pac', '2pac', '2pac', '2pac', '2pac', '2pac', '2pac', '2pac', '2pac', '2pac', '2pac', '2pac', '2pac', '2pac', '2pac', '2pac', '2pac', '2pac', '2pac', '2pac', '2pac', '2pac', '2pac', '2pac', '2pac', '2pac', '2pac', '2pac', '2pac', '2pac', '2pac', '2pac', '2pac', '2pac', '2pac', '2pac', '2pac', '2pac', '2pac', '2pac', '2pac', '2pac', '2pac', '2pac', '2pac', '2pac', '2pac', '2pac', '2pac', '2pac', '2pac', '2pac', '2pac', '2pac', '2pac', '2pac', '2pac', '2pac', '2pac', '2pac', '2pac', 'nas', 'nas', 'nas', 'nas', 'nas', 'nas', 'nas', 'nas', 'nas', 'nas', 'nas', 'nas', 'nas', 'nas', 'nas', 'nas', 'nas', 'nas', 'nas', 'nas', 'nas', 'nas', 'nas', 'nas', 'nas', 'nas', 'nas', 'nas', 'nas', 'nas', 'nas', 'nas', 'nas', 'nas', 'nas', 'nas', 'nas', 'nas', 'nas', 'nas', 'nas', 'nas', 'nas', 'nas', 'nas', 'nas', 'nas', 'nas', 'nas', 'nas', 'nas', 'nas', 'nas', 'nas', 'nas', 'nas', 'nas', 'nas', 'nas', 'nas', 'nas', 'nas', 'nas', 'nas', 'nas', 'nas', 'nas', 'nas', 'nas', 'nas', 'nas', 'nas', 'nas', 'nas', 'nas', 'nas', 'mos-def', 'mos-def', 'mos-def', 'mos-def', 'mos-def', 'mos-def', 'mos-def', 'mos-def', 'mos-def', 'mos-def', 'mos-def', 'mos-def', 'mos-def', 'mos-def', 'mos-def', 'mos-def', 'mos-def', 'mos-def', 'mos-def', 'mos-def', 'mos-def', 'mos-def', 'mos-def', 'mos-def', 'mos-def', 'mos-def', 'mos-def', 'mos-def', 'mos-def', 'mos-def', 'mos-def', 'mos-def', 'mos-def', 'mos-def', 'mos-def', 'mos-def', 'mos-def', 'mos-def', 'mos-def', 'mos-def', 'mos-def', 'mos-def', 'mos-def', 'mos-def', 'mos-def', 'mos-def', 'mos-def', 'mos-def', 'mos-def', 'mos-def', 'mos-def', 'mos-def', 'mos-def', 'mos-def', 'mos-def', 'mos-def', 'mos-def', 'mos-def', 'mos-def', 'mos-def', 'mos-def', 'mos-def', 'mos-def', 'mos-def', 'mos-def', 'mos-def', 'mos-def', 'mos-def', 'mos-def', 'mos-def', 'notorious-big', 'notorious-big', 'notorious-big', 'notorious-big', 'notorious-big', 'notorious-big', 'notorious-big', 'notorious-big', 'notorious-big', 'notorious-big', 'notorious-big', 'notorious-big', 'notorious-big', 'notorious-big', 'notorious-big', 'notorious-big', 'notorious-big', 'notorious-big', 'notorious-big', 'notorious-big', 'notorious-big', 'notorious-big', 'notorious-big', 'notorious-big', 'notorious-big', 'notorious-big', 'notorious-big', 'notorious-big', 'notorious-big', 'notorious-big', 'notorious-big', 'notorious-big', 'notorious-big', 'notorious-big', 'notorious-big', 'notorious-big', 'notorious-big', 'notorious-big', 'notorious-big', 'notorious-big', 'notorious-big', 'notorious-big', 'notorious-big', 'notorious-big', 'notorious-big', 'notorious-big', 'notorious-big', 'notorious-big', 'notorious-big', 'notorious-big', 'notorious-big', 'notorious-big', 'notorious-big', 'notorious-big', 'notorious-big', 'notorious-big', 'notorious-big', 'notorious-big', 'notorious-big', 'notorious-big', 'notorious-big', 'notorious-big', 'notorious-big', 'notorious-big', 'notorious-big', 'notorious-big', 'notorious-big', 'notorious-big', 'notorious-big', 'notorious-big', 'notorious-big', 'notorious-big', 'notorious-big', 'notorious-big']\n"
     ]
    }
   ],
   "source": [
    "print(labels)"
   ]
  },
  {
   "cell_type": "code",
   "execution_count": 18,
   "metadata": {},
   "outputs": [],
   "source": [
    "corpus = songs # copying the songs into another list to clean them"
   ]
  },
  {
   "cell_type": "code",
   "execution_count": 19,
   "metadata": {},
   "outputs": [
    {
     "data": {
      "text/plain": [
       "299"
      ]
     },
     "execution_count": 19,
     "metadata": {},
     "output_type": "execute_result"
    }
   ],
   "source": [
    "len(corpus)"
   ]
  },
  {
   "cell_type": "markdown",
   "metadata": {},
   "source": [
    "### Clean the corpus (with RegEx):"
   ]
  },
  {
   "cell_type": "code",
   "execution_count": 20,
   "metadata": {},
   "outputs": [],
   "source": [
    "cleaned_corpus = []\n",
    "for song in corpus:\n",
    "    song = song.lower()                                     # changes all to lower case\n",
    "    song = re.sub(r\"[-()\\\"#/@;:<>{}=~|.?,\\*\\!']\", \"\", song) # deletes special characters\n",
    "    song = re.sub(r\"[\\[].*?[\\]]\", \"\", song)                 # deletes additional info in square brackets\n",
    "    song = re.sub(\"\\d+\", \"\", song)                          # deletes digits\n",
    "    cleaned_corpus.append(song)"
   ]
  },
  {
   "cell_type": "markdown",
   "metadata": {},
   "source": [
    "### Transforming the corpus into a feature matrix (TfidfVectorizer):"
   ]
  },
  {
   "cell_type": "code",
   "execution_count": 21,
   "metadata": {},
   "outputs": [],
   "source": [
    "tf = TfidfVectorizer()\n",
    "tf.fit(cleaned_corpus)\n",
    "tf_vec_corpus = tf.transform(cleaned_corpus)\n",
    "df = pd.DataFrame(tf_vec_corpus.todense().round(2), index=labels, columns=tf.get_feature_names())"
   ]
  },
  {
   "cell_type": "code",
   "execution_count": 22,
   "metadata": {},
   "outputs": [
    {
     "data": {
      "text/html": [
       "<div>\n",
       "<style scoped>\n",
       "    .dataframe tbody tr th:only-of-type {\n",
       "        vertical-align: middle;\n",
       "    }\n",
       "\n",
       "    .dataframe tbody tr th {\n",
       "        vertical-align: top;\n",
       "    }\n",
       "\n",
       "    .dataframe thead th {\n",
       "        text-align: right;\n",
       "    }\n",
       "</style>\n",
       "<table border=\"1\" class=\"dataframe\">\n",
       "  <thead>\n",
       "    <tr style=\"text-align: right;\">\n",
       "      <th></th>\n",
       "      <th>aaaaaahhhhhh</th>\n",
       "      <th>aaahhh</th>\n",
       "      <th>aalike</th>\n",
       "      <th>aarow</th>\n",
       "      <th>aaw</th>\n",
       "      <th>ab</th>\n",
       "      <th>abandoned</th>\n",
       "      <th>abbaccas</th>\n",
       "      <th>abboys</th>\n",
       "      <th>abdomen</th>\n",
       "      <th>...</th>\n",
       "      <th>zhane</th>\n",
       "      <th>zinc</th>\n",
       "      <th>zion</th>\n",
       "      <th>zip</th>\n",
       "      <th>zone</th>\n",
       "      <th>zoo</th>\n",
       "      <th>zoot</th>\n",
       "      <th>zovarax</th>\n",
       "      <th>zulu</th>\n",
       "      <th>zyaire</th>\n",
       "    </tr>\n",
       "  </thead>\n",
       "  <tbody>\n",
       "    <tr>\n",
       "      <th>2pac</th>\n",
       "      <td>0.0</td>\n",
       "      <td>0.0</td>\n",
       "      <td>0.0</td>\n",
       "      <td>0.0</td>\n",
       "      <td>0.00</td>\n",
       "      <td>0.0</td>\n",
       "      <td>0.0</td>\n",
       "      <td>0.0</td>\n",
       "      <td>0.0</td>\n",
       "      <td>0.0</td>\n",
       "      <td>...</td>\n",
       "      <td>0.0</td>\n",
       "      <td>0.0</td>\n",
       "      <td>0.0</td>\n",
       "      <td>0.0</td>\n",
       "      <td>0.0</td>\n",
       "      <td>0.0</td>\n",
       "      <td>0.0</td>\n",
       "      <td>0.0</td>\n",
       "      <td>0.0</td>\n",
       "      <td>0.0</td>\n",
       "    </tr>\n",
       "    <tr>\n",
       "      <th>2pac</th>\n",
       "      <td>0.0</td>\n",
       "      <td>0.0</td>\n",
       "      <td>0.0</td>\n",
       "      <td>0.0</td>\n",
       "      <td>0.00</td>\n",
       "      <td>0.0</td>\n",
       "      <td>0.0</td>\n",
       "      <td>0.0</td>\n",
       "      <td>0.0</td>\n",
       "      <td>0.0</td>\n",
       "      <td>...</td>\n",
       "      <td>0.0</td>\n",
       "      <td>0.0</td>\n",
       "      <td>0.0</td>\n",
       "      <td>0.0</td>\n",
       "      <td>0.0</td>\n",
       "      <td>0.0</td>\n",
       "      <td>0.0</td>\n",
       "      <td>0.0</td>\n",
       "      <td>0.0</td>\n",
       "      <td>0.0</td>\n",
       "    </tr>\n",
       "    <tr>\n",
       "      <th>2pac</th>\n",
       "      <td>0.0</td>\n",
       "      <td>0.0</td>\n",
       "      <td>0.0</td>\n",
       "      <td>0.0</td>\n",
       "      <td>0.00</td>\n",
       "      <td>0.0</td>\n",
       "      <td>0.0</td>\n",
       "      <td>0.0</td>\n",
       "      <td>0.0</td>\n",
       "      <td>0.0</td>\n",
       "      <td>...</td>\n",
       "      <td>0.0</td>\n",
       "      <td>0.0</td>\n",
       "      <td>0.0</td>\n",
       "      <td>0.0</td>\n",
       "      <td>0.0</td>\n",
       "      <td>0.0</td>\n",
       "      <td>0.0</td>\n",
       "      <td>0.0</td>\n",
       "      <td>0.0</td>\n",
       "      <td>0.0</td>\n",
       "    </tr>\n",
       "    <tr>\n",
       "      <th>2pac</th>\n",
       "      <td>0.0</td>\n",
       "      <td>0.0</td>\n",
       "      <td>0.0</td>\n",
       "      <td>0.0</td>\n",
       "      <td>0.29</td>\n",
       "      <td>0.0</td>\n",
       "      <td>0.0</td>\n",
       "      <td>0.0</td>\n",
       "      <td>0.0</td>\n",
       "      <td>0.0</td>\n",
       "      <td>...</td>\n",
       "      <td>0.0</td>\n",
       "      <td>0.0</td>\n",
       "      <td>0.0</td>\n",
       "      <td>0.0</td>\n",
       "      <td>0.0</td>\n",
       "      <td>0.0</td>\n",
       "      <td>0.0</td>\n",
       "      <td>0.0</td>\n",
       "      <td>0.0</td>\n",
       "      <td>0.0</td>\n",
       "    </tr>\n",
       "    <tr>\n",
       "      <th>2pac</th>\n",
       "      <td>0.0</td>\n",
       "      <td>0.0</td>\n",
       "      <td>0.0</td>\n",
       "      <td>0.0</td>\n",
       "      <td>0.00</td>\n",
       "      <td>0.0</td>\n",
       "      <td>0.0</td>\n",
       "      <td>0.0</td>\n",
       "      <td>0.0</td>\n",
       "      <td>0.0</td>\n",
       "      <td>...</td>\n",
       "      <td>0.0</td>\n",
       "      <td>0.0</td>\n",
       "      <td>0.0</td>\n",
       "      <td>0.0</td>\n",
       "      <td>0.0</td>\n",
       "      <td>0.0</td>\n",
       "      <td>0.0</td>\n",
       "      <td>0.0</td>\n",
       "      <td>0.0</td>\n",
       "      <td>0.0</td>\n",
       "    </tr>\n",
       "    <tr>\n",
       "      <th>...</th>\n",
       "      <td>...</td>\n",
       "      <td>...</td>\n",
       "      <td>...</td>\n",
       "      <td>...</td>\n",
       "      <td>...</td>\n",
       "      <td>...</td>\n",
       "      <td>...</td>\n",
       "      <td>...</td>\n",
       "      <td>...</td>\n",
       "      <td>...</td>\n",
       "      <td>...</td>\n",
       "      <td>...</td>\n",
       "      <td>...</td>\n",
       "      <td>...</td>\n",
       "      <td>...</td>\n",
       "      <td>...</td>\n",
       "      <td>...</td>\n",
       "      <td>...</td>\n",
       "      <td>...</td>\n",
       "      <td>...</td>\n",
       "      <td>...</td>\n",
       "    </tr>\n",
       "    <tr>\n",
       "      <th>notorious-big</th>\n",
       "      <td>0.0</td>\n",
       "      <td>0.0</td>\n",
       "      <td>0.0</td>\n",
       "      <td>0.0</td>\n",
       "      <td>0.00</td>\n",
       "      <td>0.0</td>\n",
       "      <td>0.0</td>\n",
       "      <td>0.0</td>\n",
       "      <td>0.0</td>\n",
       "      <td>0.0</td>\n",
       "      <td>...</td>\n",
       "      <td>0.0</td>\n",
       "      <td>0.0</td>\n",
       "      <td>0.0</td>\n",
       "      <td>0.0</td>\n",
       "      <td>0.0</td>\n",
       "      <td>0.0</td>\n",
       "      <td>0.0</td>\n",
       "      <td>0.0</td>\n",
       "      <td>0.0</td>\n",
       "      <td>0.0</td>\n",
       "    </tr>\n",
       "    <tr>\n",
       "      <th>notorious-big</th>\n",
       "      <td>0.0</td>\n",
       "      <td>0.1</td>\n",
       "      <td>0.0</td>\n",
       "      <td>0.0</td>\n",
       "      <td>0.00</td>\n",
       "      <td>0.0</td>\n",
       "      <td>0.0</td>\n",
       "      <td>0.0</td>\n",
       "      <td>0.0</td>\n",
       "      <td>0.0</td>\n",
       "      <td>...</td>\n",
       "      <td>0.0</td>\n",
       "      <td>0.0</td>\n",
       "      <td>0.0</td>\n",
       "      <td>0.0</td>\n",
       "      <td>0.0</td>\n",
       "      <td>0.0</td>\n",
       "      <td>0.0</td>\n",
       "      <td>0.0</td>\n",
       "      <td>0.0</td>\n",
       "      <td>0.0</td>\n",
       "    </tr>\n",
       "    <tr>\n",
       "      <th>notorious-big</th>\n",
       "      <td>0.0</td>\n",
       "      <td>0.0</td>\n",
       "      <td>0.0</td>\n",
       "      <td>0.0</td>\n",
       "      <td>0.00</td>\n",
       "      <td>0.0</td>\n",
       "      <td>0.0</td>\n",
       "      <td>0.0</td>\n",
       "      <td>0.0</td>\n",
       "      <td>0.0</td>\n",
       "      <td>...</td>\n",
       "      <td>0.0</td>\n",
       "      <td>0.0</td>\n",
       "      <td>0.0</td>\n",
       "      <td>0.0</td>\n",
       "      <td>0.0</td>\n",
       "      <td>0.0</td>\n",
       "      <td>0.0</td>\n",
       "      <td>0.0</td>\n",
       "      <td>0.0</td>\n",
       "      <td>0.0</td>\n",
       "    </tr>\n",
       "    <tr>\n",
       "      <th>notorious-big</th>\n",
       "      <td>0.0</td>\n",
       "      <td>0.0</td>\n",
       "      <td>0.0</td>\n",
       "      <td>0.0</td>\n",
       "      <td>0.00</td>\n",
       "      <td>0.0</td>\n",
       "      <td>0.0</td>\n",
       "      <td>0.0</td>\n",
       "      <td>0.0</td>\n",
       "      <td>0.0</td>\n",
       "      <td>...</td>\n",
       "      <td>0.0</td>\n",
       "      <td>0.0</td>\n",
       "      <td>0.0</td>\n",
       "      <td>0.0</td>\n",
       "      <td>0.0</td>\n",
       "      <td>0.0</td>\n",
       "      <td>0.0</td>\n",
       "      <td>0.0</td>\n",
       "      <td>0.0</td>\n",
       "      <td>0.0</td>\n",
       "    </tr>\n",
       "    <tr>\n",
       "      <th>notorious-big</th>\n",
       "      <td>0.0</td>\n",
       "      <td>0.0</td>\n",
       "      <td>0.0</td>\n",
       "      <td>0.0</td>\n",
       "      <td>0.00</td>\n",
       "      <td>0.0</td>\n",
       "      <td>0.0</td>\n",
       "      <td>0.0</td>\n",
       "      <td>0.0</td>\n",
       "      <td>0.0</td>\n",
       "      <td>...</td>\n",
       "      <td>0.0</td>\n",
       "      <td>0.0</td>\n",
       "      <td>0.0</td>\n",
       "      <td>0.0</td>\n",
       "      <td>0.0</td>\n",
       "      <td>0.0</td>\n",
       "      <td>0.0</td>\n",
       "      <td>0.0</td>\n",
       "      <td>0.0</td>\n",
       "      <td>0.0</td>\n",
       "    </tr>\n",
       "  </tbody>\n",
       "</table>\n",
       "<p>299 rows × 12403 columns</p>\n",
       "</div>"
      ],
      "text/plain": [
       "               aaaaaahhhhhh  aaahhh  aalike  aarow   aaw   ab  abandoned  \\\n",
       "2pac                    0.0     0.0     0.0    0.0  0.00  0.0        0.0   \n",
       "2pac                    0.0     0.0     0.0    0.0  0.00  0.0        0.0   \n",
       "2pac                    0.0     0.0     0.0    0.0  0.00  0.0        0.0   \n",
       "2pac                    0.0     0.0     0.0    0.0  0.29  0.0        0.0   \n",
       "2pac                    0.0     0.0     0.0    0.0  0.00  0.0        0.0   \n",
       "...                     ...     ...     ...    ...   ...  ...        ...   \n",
       "notorious-big           0.0     0.0     0.0    0.0  0.00  0.0        0.0   \n",
       "notorious-big           0.0     0.1     0.0    0.0  0.00  0.0        0.0   \n",
       "notorious-big           0.0     0.0     0.0    0.0  0.00  0.0        0.0   \n",
       "notorious-big           0.0     0.0     0.0    0.0  0.00  0.0        0.0   \n",
       "notorious-big           0.0     0.0     0.0    0.0  0.00  0.0        0.0   \n",
       "\n",
       "               abbaccas  abboys  abdomen  ...  zhane  zinc  zion  zip  zone  \\\n",
       "2pac                0.0     0.0      0.0  ...    0.0   0.0   0.0  0.0   0.0   \n",
       "2pac                0.0     0.0      0.0  ...    0.0   0.0   0.0  0.0   0.0   \n",
       "2pac                0.0     0.0      0.0  ...    0.0   0.0   0.0  0.0   0.0   \n",
       "2pac                0.0     0.0      0.0  ...    0.0   0.0   0.0  0.0   0.0   \n",
       "2pac                0.0     0.0      0.0  ...    0.0   0.0   0.0  0.0   0.0   \n",
       "...                 ...     ...      ...  ...    ...   ...   ...  ...   ...   \n",
       "notorious-big       0.0     0.0      0.0  ...    0.0   0.0   0.0  0.0   0.0   \n",
       "notorious-big       0.0     0.0      0.0  ...    0.0   0.0   0.0  0.0   0.0   \n",
       "notorious-big       0.0     0.0      0.0  ...    0.0   0.0   0.0  0.0   0.0   \n",
       "notorious-big       0.0     0.0      0.0  ...    0.0   0.0   0.0  0.0   0.0   \n",
       "notorious-big       0.0     0.0      0.0  ...    0.0   0.0   0.0  0.0   0.0   \n",
       "\n",
       "               zoo  zoot  zovarax  zulu  zyaire  \n",
       "2pac           0.0   0.0      0.0   0.0     0.0  \n",
       "2pac           0.0   0.0      0.0   0.0     0.0  \n",
       "2pac           0.0   0.0      0.0   0.0     0.0  \n",
       "2pac           0.0   0.0      0.0   0.0     0.0  \n",
       "2pac           0.0   0.0      0.0   0.0     0.0  \n",
       "...            ...   ...      ...   ...     ...  \n",
       "notorious-big  0.0   0.0      0.0   0.0     0.0  \n",
       "notorious-big  0.0   0.0      0.0   0.0     0.0  \n",
       "notorious-big  0.0   0.0      0.0   0.0     0.0  \n",
       "notorious-big  0.0   0.0      0.0   0.0     0.0  \n",
       "notorious-big  0.0   0.0      0.0   0.0     0.0  \n",
       "\n",
       "[299 rows x 12403 columns]"
      ]
     },
     "execution_count": 22,
     "metadata": {},
     "output_type": "execute_result"
    }
   ],
   "source": [
    "df"
   ]
  },
  {
   "cell_type": "markdown",
   "metadata": {},
   "source": [
    "#### Defining X and y:"
   ]
  },
  {
   "cell_type": "code",
   "execution_count": 23,
   "metadata": {},
   "outputs": [],
   "source": [
    "X = df\n",
    "y = df.index"
   ]
  },
  {
   "cell_type": "markdown",
   "metadata": {},
   "source": [
    "#### Check if the data is balanced!"
   ]
  },
  {
   "cell_type": "code",
   "execution_count": 24,
   "metadata": {},
   "outputs": [
    {
     "data": {
      "text/plain": [
       "2pac             0.264214\n",
       "nas              0.254181\n",
       "notorious-big    0.247492\n",
       "mos-def          0.234114\n",
       "dtype: float64"
      ]
     },
     "execution_count": 24,
     "metadata": {},
     "output_type": "execute_result"
    }
   ],
   "source": [
    "df.index.value_counts(normalize=True) #proportion of songs per artist"
   ]
  },
  {
   "cell_type": "code",
   "execution_count": 60,
   "metadata": {},
   "outputs": [
    {
     "data": {
      "text/plain": [
       "2pac             79\n",
       "nas              76\n",
       "notorious-big    74\n",
       "mos-def          70\n",
       "dtype: int64"
      ]
     },
     "execution_count": 60,
     "metadata": {},
     "output_type": "execute_result"
    }
   ],
   "source": [
    "df.index.value_counts()"
   ]
  },
  {
   "cell_type": "code",
   "execution_count": 25,
   "metadata": {},
   "outputs": [
    {
     "data": {
      "text/plain": [
       "0"
      ]
     },
     "execution_count": 25,
     "metadata": {},
     "output_type": "execute_result"
    }
   ],
   "source": [
    "df.isna().values.sum() # check for missing (NaN) values"
   ]
  },
  {
   "cell_type": "markdown",
   "metadata": {},
   "source": [
    "### Dealing with class imbalance (by Undersampling):"
   ]
  },
  {
   "cell_type": "markdown",
   "metadata": {},
   "source": [
    "RandomUndersampling randomly deletes samples from the majority class(es) to fit number of minority class"
   ]
  },
  {
   "cell_type": "code",
   "execution_count": 26,
   "metadata": {},
   "outputs": [],
   "source": [
    "from imblearn.under_sampling import RandomUnderSampler"
   ]
  },
  {
   "cell_type": "code",
   "execution_count": 27,
   "metadata": {},
   "outputs": [],
   "source": [
    "rus = RandomUnderSampler()"
   ]
  },
  {
   "cell_type": "code",
   "execution_count": 28,
   "metadata": {},
   "outputs": [],
   "source": [
    "X_rus, y_rus = rus.fit_resample(X, y)"
   ]
  },
  {
   "cell_type": "code",
   "execution_count": 29,
   "metadata": {},
   "outputs": [
    {
     "data": {
      "text/plain": [
       "((299, 12403), (280, 12403))"
      ]
     },
     "execution_count": 29,
     "metadata": {},
     "output_type": "execute_result"
    }
   ],
   "source": [
    "X.shape, X_rus.shape"
   ]
  },
  {
   "cell_type": "markdown",
   "metadata": {},
   "source": [
    "## Model: Multinomial Naive Bayes"
   ]
  },
  {
   "cell_type": "code",
   "execution_count": 30,
   "metadata": {},
   "outputs": [],
   "source": [
    "m = MultinomialNB()"
   ]
  },
  {
   "cell_type": "code",
   "execution_count": 31,
   "metadata": {},
   "outputs": [
    {
     "data": {
      "text/plain": [
       "MultinomialNB()"
      ]
     },
     "execution_count": 31,
     "metadata": {},
     "output_type": "execute_result"
    }
   ],
   "source": [
    "m.fit(X_rus, y_rus)"
   ]
  },
  {
   "cell_type": "code",
   "execution_count": 52,
   "metadata": {},
   "outputs": [
    {
     "name": "stdout",
     "output_type": "stream",
     "text": [
      "Please enter the verse you want to know the artist of: they wanna burn your molecules until you let go ions treat beef like they let go lions so don't eye 'em\n"
     ]
    }
   ],
   "source": [
    "new_input = [input(\"Please enter the verse you want to know the artist of: \")]"
   ]
  },
  {
   "cell_type": "code",
   "execution_count": 53,
   "metadata": {},
   "outputs": [
    {
     "data": {
      "text/plain": [
       "[\"they wanna burn your molecules until you let go ions treat beef like they let go lions so don't eye 'em\"]"
      ]
     },
     "execution_count": 53,
     "metadata": {},
     "output_type": "execute_result"
    }
   ],
   "source": [
    "new_input"
   ]
  },
  {
   "cell_type": "code",
   "execution_count": 54,
   "metadata": {},
   "outputs": [],
   "source": [
    "vector_input = tf.transform(new_input)"
   ]
  },
  {
   "cell_type": "code",
   "execution_count": 55,
   "metadata": {},
   "outputs": [],
   "source": [
    "y_pred = m.predict(vector_input)"
   ]
  },
  {
   "cell_type": "code",
   "execution_count": 56,
   "metadata": {},
   "outputs": [
    {
     "data": {
      "text/plain": [
       "array(['notorious-big'], dtype='<U13')"
      ]
     },
     "execution_count": 56,
     "metadata": {},
     "output_type": "execute_result"
    }
   ],
   "source": [
    "y_pred"
   ]
  },
  {
   "cell_type": "code",
   "execution_count": 57,
   "metadata": {},
   "outputs": [],
   "source": [
    "probability = m.predict_proba(vector_input)"
   ]
  },
  {
   "cell_type": "code",
   "execution_count": 58,
   "metadata": {
    "scrolled": true
   },
   "outputs": [
    {
     "data": {
      "text/plain": [
       "array([[0.26882552, 0.21593944, 0.21458239, 0.30065265]])"
      ]
     },
     "execution_count": 58,
     "metadata": {},
     "output_type": "execute_result"
    }
   ],
   "source": [
    "probability"
   ]
  },
  {
   "cell_type": "code",
   "execution_count": 59,
   "metadata": {},
   "outputs": [
    {
     "name": "stdout",
     "output_type": "stream",
     "text": [
      "The artist who wrote this verse is most likely notorious-big with a probability of 30.0%\n"
     ]
    }
   ],
   "source": [
    "print(f\"The artist who wrote this verse is most likely {y_pred[0]} with a probability of {round(probability.max(), 2)*100}%\")"
   ]
  },
  {
   "cell_type": "code",
   "execution_count": null,
   "metadata": {},
   "outputs": [],
   "source": []
  }
 ],
 "metadata": {
  "kernelspec": {
   "display_name": "Python 3",
   "language": "python",
   "name": "python3"
  },
  "language_info": {
   "codemirror_mode": {
    "name": "ipython",
    "version": 3
   },
   "file_extension": ".py",
   "mimetype": "text/x-python",
   "name": "python",
   "nbconvert_exporter": "python",
   "pygments_lexer": "ipython3",
   "version": "3.8.3"
  }
 },
 "nbformat": 4,
 "nbformat_minor": 4
}
